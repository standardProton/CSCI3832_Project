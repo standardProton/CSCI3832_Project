{
 "cells": [
  {
   "cell_type": "markdown",
   "metadata": {},
   "source": [
    "## Initial Exploratory Data Science\n",
    "\n",
    "Alex McDonald\n",
    "\n",
    "In this python notebook we explore some of the basic statistics about the two datasets:\n",
    "\n",
    "**Dataset A**: Labeled examples for spam or ham (non-spam). [Kaggle Link](https://www.kaggle.com/datasets/meruvulikith/190k-spam-ham-email-dataset-for-classification/data)\n",
    "\n",
    "**Dataset B**: Labeled examples for phishing and non-phishing URLs. [Kaggle Link](https://www.kaggle.com/datasets/hammadjavaid/phishing-url-dataset-for-nlp-based-classification)\n",
    "\n",
    "**Dataset C**: A very small dataset that we will create in the future by hand or by a LLM like ChatGPT for the purpose of testing our model. This will have examples of spam and non-spam with the goal of addressing whether our model can successfully prevent malicious text formed from LLMs, addressing the larger problem as described in the introduction or abstract."
   ]
  },
  {
   "cell_type": "code",
   "execution_count": 1,
   "metadata": {},
   "outputs": [],
   "source": [
    "import pandas as pd\n",
    "import numpy as np"
   ]
  },
  {
   "cell_type": "markdown",
   "metadata": {},
   "source": [
    "To first examine **Dataset A**, we will load it from the csv from pandas. Unlike dataset B, this dataset is not divided into a training set and validation set, so we will use random sampling to split 70% of the full dataset into the training data, which is the same ratio that dataset B is using. "
   ]
  },
  {
   "cell_type": "code",
   "execution_count": 2,
   "metadata": {},
   "outputs": [
    {
     "data": {
      "text/html": [
       "<div>\n",
       "<style scoped>\n",
       "    .dataframe tbody tr th:only-of-type {\n",
       "        vertical-align: middle;\n",
       "    }\n",
       "\n",
       "    .dataframe tbody tr th {\n",
       "        vertical-align: top;\n",
       "    }\n",
       "\n",
       "    .dataframe thead th {\n",
       "        text-align: right;\n",
       "    }\n",
       "</style>\n",
       "<table border=\"1\" class=\"dataframe\">\n",
       "  <thead>\n",
       "    <tr style=\"text-align: right;\">\n",
       "      <th></th>\n",
       "      <th>label</th>\n",
       "      <th>text</th>\n",
       "    </tr>\n",
       "  </thead>\n",
       "  <tbody>\n",
       "    <tr>\n",
       "      <th>0</th>\n",
       "      <td>Spam</td>\n",
       "      <td>viiiiiiagraaaa\\nonly for the ones that want to...</td>\n",
       "    </tr>\n",
       "    <tr>\n",
       "      <th>1</th>\n",
       "      <td>Ham</td>\n",
       "      <td>got ice thought look az original message ice o...</td>\n",
       "    </tr>\n",
       "    <tr>\n",
       "      <th>2</th>\n",
       "      <td>Spam</td>\n",
       "      <td>yo ur wom an ne eds an escapenumber in ch ma n...</td>\n",
       "    </tr>\n",
       "    <tr>\n",
       "      <th>3</th>\n",
       "      <td>Spam</td>\n",
       "      <td>start increasing your odds of success &amp; live s...</td>\n",
       "    </tr>\n",
       "    <tr>\n",
       "      <th>4</th>\n",
       "      <td>Ham</td>\n",
       "      <td>author jra date escapenumber escapenumber esca...</td>\n",
       "    </tr>\n",
       "  </tbody>\n",
       "</table>\n",
       "</div>"
      ],
      "text/plain": [
       "  label                                               text\n",
       "0  Spam  viiiiiiagraaaa\\nonly for the ones that want to...\n",
       "1   Ham  got ice thought look az original message ice o...\n",
       "2  Spam  yo ur wom an ne eds an escapenumber in ch ma n...\n",
       "3  Spam  start increasing your odds of success & live s...\n",
       "4   Ham  author jra date escapenumber escapenumber esca..."
      ]
     },
     "execution_count": 2,
     "metadata": {},
     "output_type": "execute_result"
    }
   ],
   "source": [
    "A_all = pd.read_csv('./datasets/SpamHam/spam_Emails_data.csv')\n",
    "A_all.head()"
   ]
  },
  {
   "cell_type": "code",
   "execution_count": 3,
   "metadata": {},
   "outputs": [
    {
     "name": "stdout",
     "output_type": "stream",
     "text": [
      "2 possible labels: ['Spam' 'Ham']\n"
     ]
    },
    {
     "data": {
      "text/html": [
       "<div>\n",
       "<style scoped>\n",
       "    .dataframe tbody tr th:only-of-type {\n",
       "        vertical-align: middle;\n",
       "    }\n",
       "\n",
       "    .dataframe tbody tr th {\n",
       "        vertical-align: top;\n",
       "    }\n",
       "\n",
       "    .dataframe thead th {\n",
       "        text-align: right;\n",
       "    }\n",
       "</style>\n",
       "<table border=\"1\" class=\"dataframe\">\n",
       "  <thead>\n",
       "    <tr style=\"text-align: right;\">\n",
       "      <th></th>\n",
       "      <th>text_label</th>\n",
       "      <th>text</th>\n",
       "      <th>label</th>\n",
       "    </tr>\n",
       "  </thead>\n",
       "  <tbody>\n",
       "    <tr>\n",
       "      <th>0</th>\n",
       "      <td>Spam</td>\n",
       "      <td>viiiiiiagraaaa only for the ones that want to ...</td>\n",
       "      <td>1</td>\n",
       "    </tr>\n",
       "    <tr>\n",
       "      <th>1</th>\n",
       "      <td>Ham</td>\n",
       "      <td>got ice thought look az original message ice o...</td>\n",
       "      <td>0</td>\n",
       "    </tr>\n",
       "    <tr>\n",
       "      <th>2</th>\n",
       "      <td>Spam</td>\n",
       "      <td>yo ur wom an ne eds an escapenumber in ch ma n...</td>\n",
       "      <td>1</td>\n",
       "    </tr>\n",
       "    <tr>\n",
       "      <th>3</th>\n",
       "      <td>Spam</td>\n",
       "      <td>start increasing your odds of success &amp; live s...</td>\n",
       "      <td>1</td>\n",
       "    </tr>\n",
       "    <tr>\n",
       "      <th>4</th>\n",
       "      <td>Ham</td>\n",
       "      <td>author jra date escapenumber escapenumber esca...</td>\n",
       "      <td>0</td>\n",
       "    </tr>\n",
       "  </tbody>\n",
       "</table>\n",
       "</div>"
      ],
      "text/plain": [
       "  text_label                                               text  label\n",
       "0       Spam  viiiiiiagraaaa only for the ones that want to ...      1\n",
       "1        Ham  got ice thought look az original message ice o...      0\n",
       "2       Spam  yo ur wom an ne eds an escapenumber in ch ma n...      1\n",
       "3       Spam  start increasing your odds of success & live s...      1\n",
       "4        Ham  author jra date escapenumber escapenumber esca...      0"
      ]
     },
     "execution_count": 3,
     "metadata": {},
     "output_type": "execute_result"
    }
   ],
   "source": [
    "#cleaning\n",
    "A_all = A_all.rename(columns={\"label\": \"text_label\"})\n",
    "A_all = A_all.dropna()\n",
    "possible_labels = A_all[\"text_label\"].unique()\n",
    "A_all[\"text\"] = A_all[\"text\"].str.replace(\"\\n\", \" \")\n",
    "print(\"%s possible labels: %s\" % (len(possible_labels), possible_labels))\n",
    "A_all[\"label\"] = A_all[\"text_label\"].apply(lambda x: 1 if x == 'Spam' else 0) #model is detecting if spam, 1=spam\n",
    "\n",
    "A_all.head()"
   ]
  },
  {
   "cell_type": "code",
   "execution_count": 50,
   "metadata": {},
   "outputs": [
    {
     "name": "stdout",
     "output_type": "stream",
     "text": [
      "Entire dataset has 193850 examples, of which 47.3% are spam.\n",
      "0 examples contain capital letters.\n"
     ]
    }
   ],
   "source": [
    "#basic statistics\n",
    "total_count = A_all.shape[0]\n",
    "spam_vals = A_all[\"label\"].values\n",
    "spam_percent = 100*round(len(spam_vals[spam_vals == 1])/total_count, 4)\n",
    "print(\"Entire dataset has %s examples, of which %s%% are spam.\" % (total_count, spam_percent))\n",
    "\n",
    "rows_capitals = A_all[A_all[\"text\"].str.contains(r'[A-Z]')]\n",
    "print(\"%s examples contain capital letters.\" % len(rows_capitals))"
   ]
  },
  {
   "cell_type": "code",
   "execution_count": 4,
   "metadata": {},
   "outputs": [
    {
     "name": "stdout",
     "output_type": "stream",
     "text": [
      "Train size: 135695, Test size: 58155\n"
     ]
    }
   ],
   "source": [
    "#split into test and train sets\n",
    "split_ratio = 0.7\n",
    "A_shuffled = A_all.sample(frac=1, replace=False, random_state=1234)\n",
    "train_size = int(split_ratio*A_all.shape[0])\n",
    "A_train = A_shuffled.iloc[:train_size]\n",
    "A_test = A_shuffled.iloc[train_size:]\n",
    "\n",
    "A_train.to_csv(\"./datasets/SpamHam/train.csv\")\n",
    "A_test.to_csv(\"./datasets/SpamHam/test.csv\")\n",
    "\n",
    "print(\"Train size: %s, Test size: %s\" % (A_train.shape[0], A_test.shape[0]))"
   ]
  },
  {
   "cell_type": "code",
   "execution_count": 98,
   "metadata": {},
   "outputs": [
    {
     "name": "stdout",
     "output_type": "stream",
     "text": [
      "Training dataset has 135695 examples, of which 47.15% are spam.\n",
      "Testing dataset has 58155 examples, of which 47.64% are spam.\n"
     ]
    }
   ],
   "source": [
    "#stats about train and test datasets\n",
    "total_count1 = A_train.shape[0]\n",
    "spam_vals1 = A_train[\"label\"].values\n",
    "spam_percent1 = 100*round(len(spam_vals1[spam_vals1 == 1])/total_count1, 4)\n",
    "print(\"Training dataset has %s examples, of which %s%% are spam.\" % (total_count1, spam_percent1))\n",
    "\n",
    "total_count2 = A_test.shape[0]\n",
    "spam_vals2 = A_test[\"label\"].values\n",
    "spam_percent2 = 100*round(len(spam_vals2[spam_vals2 == 1])/total_count2, 4)\n",
    "print(\"Testing dataset has %s examples, of which %s%% are spam.\" % (total_count2, spam_percent2))"
   ]
  },
  {
   "cell_type": "markdown",
   "metadata": {},
   "source": [
    "# Dataset B: Phishing and non-phishing URLs\n",
    "\n",
    "For the second dataset, we will do a similar process. The dataset's contributor on Kaggle has already divided this dataset into a training set and test set, so for convenience we will use that. Note: We needed to clean the files to remove double-quotes so that it is csv-formatted."
   ]
  },
  {
   "cell_type": "code",
   "execution_count": 6,
   "metadata": {},
   "outputs": [],
   "source": [
    "#remove double quotes in file to make it csv formatted\n",
    "def remove_doublequotes(file_dir):\n",
    "    raw_file_str = ''\n",
    "    with open(file_dir, 'r', encoding='utf-8') as f:\n",
    "        raw_file_str = f.read().replace('\"\"', '\"')\n",
    "        if not raw_file_str.startswith(\"label,text\\n\"):\n",
    "            raw_file_str = \"label,text\\n\" + raw_file_str\n",
    "    with open(file_dir, 'w', encoding='utf-8') as f:\n",
    "        f.write(raw_file_str)\n",
    "\n",
    "remove_doublequotes('./datasets/PhishingURLs/train.csv')\n",
    "remove_doublequotes('./datasets/PhishingURLs/test.csv')"
   ]
  },
  {
   "cell_type": "code",
   "execution_count": 3,
   "metadata": {},
   "outputs": [
    {
     "data": {
      "text/html": [
       "<div>\n",
       "<style scoped>\n",
       "    .dataframe tbody tr th:only-of-type {\n",
       "        vertical-align: middle;\n",
       "    }\n",
       "\n",
       "    .dataframe tbody tr th {\n",
       "        vertical-align: top;\n",
       "    }\n",
       "\n",
       "    .dataframe thead th {\n",
       "        text-align: right;\n",
       "    }\n",
       "</style>\n",
       "<table border=\"1\" class=\"dataframe\">\n",
       "  <thead>\n",
       "    <tr style=\"text-align: right;\">\n",
       "      <th></th>\n",
       "      <th>label</th>\n",
       "      <th>text</th>\n",
       "    </tr>\n",
       "  </thead>\n",
       "  <tbody>\n",
       "    <tr>\n",
       "      <th>0</th>\n",
       "      <td>2</td>\n",
       "      <td>https://blog.sockpuppet.us/</td>\n",
       "    </tr>\n",
       "    <tr>\n",
       "      <th>1</th>\n",
       "      <td>2</td>\n",
       "      <td>https://blog.apiki.com/seguranca/</td>\n",
       "    </tr>\n",
       "    <tr>\n",
       "      <th>2</th>\n",
       "      <td>1</td>\n",
       "      <td>http://autoecole-lauriston.com/a/T0RVd056QXlNe...</td>\n",
       "    </tr>\n",
       "    <tr>\n",
       "      <th>3</th>\n",
       "      <td>1</td>\n",
       "      <td>http://chinpay.site/index.html?hgcFSE@E$Z*DFcG...</td>\n",
       "    </tr>\n",
       "    <tr>\n",
       "      <th>4</th>\n",
       "      <td>2</td>\n",
       "      <td>http://www.firstfivenebraska.org/blog/article/...</td>\n",
       "    </tr>\n",
       "  </tbody>\n",
       "</table>\n",
       "</div>"
      ],
      "text/plain": [
       "   label                                               text\n",
       "0      2                        https://blog.sockpuppet.us/\n",
       "1      2                  https://blog.apiki.com/seguranca/\n",
       "2      1  http://autoecole-lauriston.com/a/T0RVd056QXlNe...\n",
       "3      1  http://chinpay.site/index.html?hgcFSE@E$Z*DFcG...\n",
       "4      2  http://www.firstfivenebraska.org/blog/article/..."
      ]
     },
     "execution_count": 3,
     "metadata": {},
     "output_type": "execute_result"
    }
   ],
   "source": [
    "B_train = pd.read_csv(\"./datasets/PhishingURLs/train.csv\", encoding='utf-8')\n",
    "B_test = pd.read_csv(\"./datasets/PhishingURLs/test.csv\", encoding='utf-8')\n",
    "\n",
    "B_train.head()"
   ]
  },
  {
   "cell_type": "code",
   "execution_count": 4,
   "metadata": {},
   "outputs": [
    {
     "name": "stdout",
     "output_type": "stream",
     "text": [
      "2 possible labels in training set: [2 1]\n",
      "2 possible labels in testing set: [2 1]\n"
     ]
    },
    {
     "data": {
      "text/html": [
       "<div>\n",
       "<style scoped>\n",
       "    .dataframe tbody tr th:only-of-type {\n",
       "        vertical-align: middle;\n",
       "    }\n",
       "\n",
       "    .dataframe tbody tr th {\n",
       "        vertical-align: top;\n",
       "    }\n",
       "\n",
       "    .dataframe thead th {\n",
       "        text-align: right;\n",
       "    }\n",
       "</style>\n",
       "<table border=\"1\" class=\"dataframe\">\n",
       "  <thead>\n",
       "    <tr style=\"text-align: right;\">\n",
       "      <th></th>\n",
       "      <th>label</th>\n",
       "      <th>text</th>\n",
       "    </tr>\n",
       "  </thead>\n",
       "  <tbody>\n",
       "    <tr>\n",
       "      <th>0</th>\n",
       "      <td>0</td>\n",
       "      <td>https://blog.sockpuppet.us/</td>\n",
       "    </tr>\n",
       "    <tr>\n",
       "      <th>1</th>\n",
       "      <td>0</td>\n",
       "      <td>https://blog.apiki.com/seguranca/</td>\n",
       "    </tr>\n",
       "    <tr>\n",
       "      <th>2</th>\n",
       "      <td>1</td>\n",
       "      <td>http://autoecole-lauriston.com/a/T0RVd056QXlNe...</td>\n",
       "    </tr>\n",
       "    <tr>\n",
       "      <th>3</th>\n",
       "      <td>1</td>\n",
       "      <td>http://chinpay.site/index.html?hgcFSE@E$Z*DFcG...</td>\n",
       "    </tr>\n",
       "    <tr>\n",
       "      <th>4</th>\n",
       "      <td>0</td>\n",
       "      <td>http://www.firstfivenebraska.org/blog/article/...</td>\n",
       "    </tr>\n",
       "  </tbody>\n",
       "</table>\n",
       "</div>"
      ],
      "text/plain": [
       "   label                                               text\n",
       "0      0                        https://blog.sockpuppet.us/\n",
       "1      0                  https://blog.apiki.com/seguranca/\n",
       "2      1  http://autoecole-lauriston.com/a/T0RVd056QXlNe...\n",
       "3      1  http://chinpay.site/index.html?hgcFSE@E$Z*DFcG...\n",
       "4      0  http://www.firstfivenebraska.org/blog/article/..."
      ]
     },
     "execution_count": 4,
     "metadata": {},
     "output_type": "execute_result"
    }
   ],
   "source": [
    "#cleaning\n",
    "B_train = B_train.dropna()\n",
    "B_test = B_test.dropna()\n",
    "possible_labels = B_train[\"label\"].unique()\n",
    "possible_labels_test = B_test[\"label\"].unique()\n",
    "print(\"%s possible labels in training set: %s\" % (len(possible_labels), possible_labels))\n",
    "print(\"%s possible labels in testing set: %s\" % (len(possible_labels_test), possible_labels_test))\n",
    "B_train[\"label\"] = B_train[\"label\"].apply(lambda x: 2 - x) #1=phishing\n",
    "B_test[\"label\"] = B_test[\"label\"].apply(lambda x: 2 - x)\n",
    "\n",
    "B_train.head()"
   ]
  },
  {
   "cell_type": "code",
   "execution_count": 10,
   "metadata": {},
   "outputs": [
    {
     "name": "stdout",
     "output_type": "stream",
     "text": [
      "Training dataset has 640000 examples, of which 50.0% are spam\n",
      "Testing dataset has 160000 examples, of which 50.0% are spam\n"
     ]
    }
   ],
   "source": [
    "#basic stats\n",
    "print(\"Training dataset has %s examples, of which %s%% are spam\" % (B_train.shape[0], 100*round(np.average(B_train[\"label\"].values), 4)))\n",
    "print(\"Testing dataset has %s examples, of which %s%% are spam\" % (B_test.shape[0], 100*round(np.average(B_test[\"label\"].values), 4)))"
   ]
  },
  {
   "cell_type": "code",
   "execution_count": 8,
   "metadata": {},
   "outputs": [
    {
     "name": "stdout",
     "output_type": "stream",
     "text": [
      "640000/640000 start with http in training set\n",
      "160000/160000 start with http in testing set\n",
      "640000/640000 contain .com in training set\n",
      "160000/160000 contain .com in testing set\n"
     ]
    }
   ],
   "source": [
    "#testing to make sure all urls start with http\n",
    "a = B_train[\"text\"].str.startswith(\"http\")\n",
    "b = B_train[\"text\"].str.contains(\".com\")\n",
    "c = B_test[\"text\"].str.startswith(\"http\")\n",
    "d = B_test[\"text\"].str.contains(\".com\")\n",
    "\n",
    "print(\"%s/%s start with http in training set\" % (a.shape[0], B_train.shape[0]))\n",
    "print(\"%s/%s start with http in testing set\" % (c.shape[0], B_test.shape[0]))\n",
    "print(\"%s/%s contain .com in training set\" % (b.shape[0], B_train.shape[0]))\n",
    "print(\"%s/%s contain .com in testing set\" % (d.shape[0], B_test.shape[0]))"
   ]
  },
  {
   "cell_type": "code",
   "execution_count": 15,
   "metadata": {},
   "outputs": [
    {
     "name": "stdout",
     "output_type": "stream",
     "text": [
      "71437 124520 71437\n"
     ]
    }
   ],
   "source": [
    "has_http = A_all[A_all[\"text\"].str.contains(\"http\")]\n",
    "has_com = A_all[A_all[\"text\"].str.contains(\".com\")]\n",
    "has_http_com = has_http[\"text\"].str.contains(\".com\")\n",
    "\n",
    "print(has_http.shape[0], has_com.shape[0], has_http_com.shape[0])"
   ]
  },
  {
   "cell_type": "code",
   "execution_count": null,
   "metadata": {},
   "outputs": [],
   "source": []
  }
 ],
 "metadata": {
  "kernelspec": {
   "display_name": "Python 3 (ipykernel)",
   "language": "python",
   "name": "python3"
  },
  "language_info": {
   "codemirror_mode": {
    "name": "ipython",
    "version": 3
   },
   "file_extension": ".py",
   "mimetype": "text/x-python",
   "name": "python",
   "nbconvert_exporter": "python",
   "pygments_lexer": "ipython3",
   "version": "3.8.10"
  }
 },
 "nbformat": 4,
 "nbformat_minor": 4
}
