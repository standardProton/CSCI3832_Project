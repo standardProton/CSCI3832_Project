{
 "cells": [
  {
   "cell_type": "markdown",
   "id": "9d1a3dcf-ed25-470b-9bfb-1d2988114f68",
   "metadata": {},
   "source": [
    "## Transformer Training\n",
    "\n",
    "Alex McDonald\n",
    "\n",
    "In this jupyter notebook we will load the vocab and examples, then train a transformer on the spam and phishing URL examples. We will be using the GLoVE pre-trained embeddings, mostly to cut down on the amount of training needed for the rest of the transformer. "
   ]
  },
  {
   "cell_type": "code",
   "execution_count": 1,
   "id": "a31eb708-edbf-416d-98a6-04c8151b623e",
   "metadata": {},
   "outputs": [],
   "source": [
    "import torch, torch.nn as nn\n",
    "import numpy as np\n",
    "import pandas as pd\n",
    "import nltk\n",
    "import math\n",
    "import matplotlib.pyplot as plt"
   ]
  },
  {
   "cell_type": "code",
   "execution_count": 15,
   "id": "b669f75e-6407-46a2-b327-9d236eded846",
   "metadata": {},
   "outputs": [
    {
     "name": "stdout",
     "output_type": "stream",
     "text": [
      "the -0.038194 -0.24487 0.72812 -0.39961 0.083172 0.043953 -0.39141 0.3344 -0.57545 0.087459 0.28787 -0.06731 0.30906 -0.26384 -0.13231 -0.20757 0.33395 -0.33848 -0.31743 -0.48336 0.1464 -0.37304 0.34577 0.052041 0.44946 -0.46971 0.02628 -0.54155 -0.15518 -0.14107 -0.039722 0.28277 0.14393 0.23464 -0.31021 0.086173 0.20397 0.52624 0.17164 -0.082378 -0.71787 -0.41531 0.20335 -0.12763 0.41367 0.55187 0.57908 -0.33477 -0.36559 -0.54857 -0.062892 0.26584 0.30205 0.99775 -0.80481 -3.0243 0.01254 -0.36942 2.2167 0.72201 -0.24978 0.92136 0.034514 0.46745 1.1079 -0.19358 -0.074575 0.23353 -0.052062 -0.22044 0.057162 -0.15806 -0.30798 -0.41625 0.37972 0.15006 -0.53212 -0.2055 -1.2526 0.071624 0.70565 0.49744 -0.42063 0.26148 -1.538 -0.30223 -0.073438 -0.28312 0.37104 -0.25217 0.016215 -0.017099 -0.38984 0.87424 -0.72569 -0.51058 -0.52028 -0.1459 0.8278 0.27062\n",
      "\n",
      "Loaded 400000 words from glove\n",
      "0\n",
      "[-0.038194 -0.24487   0.72812  -0.39961   0.083172  0.043953 -0.39141\n",
      "  0.3344   -0.57545   0.087459  0.28787  -0.06731   0.30906  -0.26384\n",
      " -0.13231  -0.20757   0.33395  -0.33848  -0.31743  -0.48336   0.1464\n",
      " -0.37304   0.34577   0.052041  0.44946  -0.46971   0.02628  -0.54155\n",
      " -0.15518  -0.14107  -0.039722  0.28277   0.14393   0.23464  -0.31021\n",
      "  0.086173  0.20397   0.52624   0.17164  -0.082378 -0.71787  -0.41531\n",
      "  0.20335  -0.12763   0.41367   0.55187   0.57908  -0.33477  -0.36559\n",
      " -0.54857  -0.062892  0.26584   0.30205   0.99775  -0.80481  -3.0243\n",
      "  0.01254  -0.36942   2.2167    0.72201  -0.24978   0.92136   0.034514\n",
      "  0.46745   1.1079   -0.19358  -0.074575  0.23353  -0.052062 -0.22044\n",
      "  0.057162 -0.15806  -0.30798  -0.41625   0.37972   0.15006  -0.53212\n",
      " -0.2055   -1.2526    0.071624  0.70565   0.49744  -0.42063   0.26148\n",
      " -1.538    -0.30223  -0.073438 -0.28312   0.37104  -0.25217   0.016215\n",
      " -0.017099 -0.38984   0.87424  -0.72569  -0.51058  -0.52028  -0.1459\n",
      "  0.8278    0.27062 ]\n",
      "[0. 0. 0. 0. 0. 0. 0. 0. 0. 0. 0. 0. 0. 0. 0. 0. 0. 0. 0. 0. 0. 0. 0. 0.\n",
      " 0. 0. 0. 0. 0. 0. 0. 0. 0. 0. 0. 0. 0. 0. 0. 0. 0. 0. 0. 0. 0. 0. 0. 0.\n",
      " 0. 0. 0. 0. 0. 0. 0. 0. 0. 0. 0. 0. 0. 0. 0. 0. 0. 0. 0. 0. 0. 0. 0. 0.\n",
      " 0. 0. 0. 0. 0. 0. 0. 0. 0. 0. 0. 0. 0. 0. 0. 0. 0. 0. 0. 0. 0. 0. 0. 0.\n",
      " 0. 0. 0. 0.]\n"
     ]
    }
   ],
   "source": [
    "#Load the vocabulary space, adapted from Homework 2\n",
    "glove_file = \"./datasets/glove.6B.100d.txt\" #or 50d\n",
    "\n",
    "embeddings_dict = {}\n",
    "\n",
    "with open(glove_file, 'r', encoding='utf8') as f:\n",
    "    for i, line in enumerate(f):\n",
    "        if i == 0:\n",
    "            print(line)\n",
    "        line = line.strip().split(' ')\n",
    "        word = line[0]\n",
    "        embed = np.asarray(line[1:], \"float\")\n",
    "\n",
    "        embeddings_dict[word] = embed\n",
    "\n",
    "print('Loaded {} words from glove'.format(len(embeddings_dict)))\n",
    "\n",
    "embedding_matrix = np.zeros((len(embeddings_dict)+2, 100)) #add 1 for padding\n",
    "\n",
    "word2id = {}\n",
    "for i, word in enumerate(embeddings_dict.keys()):\n",
    "\n",
    "    word2id[word] = i                                #Map each word to an index\n",
    "    embedding_matrix[i] = embeddings_dict[word]      #That index holds the Glove embedding in the embedding matrix\n",
    "\n",
    "# Our joint vocabulary for both models / sanity check to see if we've loaded it correctly:\n",
    "print(word2id['the'])\n",
    "print(embedding_matrix[word2id['the']])\n",
    "\n",
    "word2id['<pad>'] = embedding_matrix.shape[0] - 2\n",
    "word2id['<start>'] = embedding_matrix.shape[0] - 1\n",
    "print(embedding_matrix[word2id['<pad>']])"
   ]
  },
  {
   "cell_type": "markdown",
   "id": "66a4d283-e916-472e-b2fb-a53118482a66",
   "metadata": {},
   "source": [
    "For the URLs, we plan on pre-processing the string to split by characters such as \".\" or \"/\". We will likely need embeddings for things like \".com\" or \"https\". First, we need to check if these embeddings already exist:"
   ]
  },
  {
   "cell_type": "code",
   "execution_count": 4,
   "id": "7e1d9ee7-a13a-4efe-9bd1-1e4d5a9af84a",
   "metadata": {},
   "outputs": [
    {
     "name": "stdout",
     "output_type": "stream",
     "text": [
      "Found tokens []\n",
      "Could not find ['http', 'https', '.com', 'com', '.org', 'org', '.net', 'net']\n"
     ]
    }
   ],
   "source": [
    "def embedding_exists(s):\n",
    "    if not (s in word2id): return False\n",
    "    if not (word2id[s] in embedding_matrix): return False\n",
    "    return True\n",
    "\n",
    "test_tokens = [\"http\", \"https\", \".com\", \"com\", \".org\", \"org\", \".net\", \"net\"] #can add more, but likely that <unk> token will be frequent in the URL model\n",
    "found = []\n",
    "not_found = []\n",
    "for token in test_tokens:\n",
    "    if (embedding_exists(token)): \n",
    "        found.append(token)\n",
    "    else: \n",
    "        not_found.append(token)\n",
    "\n",
    "print(\"Found tokens %s\" % found)\n",
    "print(\"Could not find %s\" % not_found)\n",
    "        "
   ]
  },
  {
   "cell_type": "markdown",
   "id": "7865dd69-f632-4743-8bbe-cfb2fb9d0a67",
   "metadata": {},
   "source": [
    "It looks like there does not exist common url components in the Glove embeddings, so we will need to likely train our own embeddings for the URL model. This might give the model an advantage though, because patterns like \"http\" vs. \"https\" might help the model distinguish between different url types. Given how many different combinations of URLs can exist though (such as two words put together without any hyphenation) may still lead to a large number of $<unk>$ tokens, which will be another problem to address.\n",
    "\n",
    "However, the GloVE embeddings should be adequate for the spam detection model. We will still need to be careful though, because the glove embeddings carry some amount of bias with them, which may become amplified by the model.\n",
    "\n",
    "To save on computational resources, we will start with a smaller subset of the data, then increase it for the final training. Let's load the spam datasets:"
   ]
  },
  {
   "cell_type": "code",
   "execution_count": null,
   "id": "f3b59c5c-64de-49de-849f-389947431df2",
   "metadata": {},
   "outputs": [],
   "source": [
    "spam_full = pd.read_csv(\"./datasets/SpamHam/train.csv\")#, nrows=20000)\n",
    "\n",
    "split_ratio = 0.8\n",
    "train_size = int(split_ratio*spam_full.shape[0])\n",
    "spam_train = spam_full.iloc[:train_size]\n",
    "spam_valid = spam_full.iloc[train_size:]\n",
    "max_length = 120 #inclusive of start token\n",
    "'''\n",
    "train_size_url = int(split_ratio*urls_full.shape[0])\n",
    "urls_train = urls_full.iloc[:train_size]\n",
    "urls_valid = urls_full.iloc[train_size:]\n",
    "url_max_length = 120\n",
    "'''\n",
    "start_id = word2id['<start>']\n",
    "\n",
    "def tokenize_example(line):\n",
    "    example = [start_id]\n",
    "    tokenized = nltk.word_tokenize(line)\n",
    "    i = 0\n",
    "    for token in tokenized:\n",
    "        if not (token in word2id): continue #not using <unk> for spam dataset\n",
    "        i += 1\n",
    "        if (i >= max_length): break\n",
    "        example.append(word2id[token])\n",
    "        \n",
    "    #add padding\n",
    "    padding = word2id[\"<pad>\"]\n",
    "    for i in range(max_length - len(example)):\n",
    "        example.append(padding)\n",
    "    return np.array(example)\n",
    "\n",
    "def tokenize(df):\n",
    "    examples = []\n",
    "    for index, row in df.iterrows():\n",
    "        example = tokenize_example(row[\"text\"])\n",
    "        if (len(example) > 0 and len(example.shape) > 0): examples.append((example, row[\"label\"]))\n",
    "    return examples\n",
    "\n",
    "tokenized_spam_train = tokenize(spam_train)\n",
    "tokenized_spam_valid = tokenize(spam_valid)"
   ]
  },
  {
   "cell_type": "markdown",
   "id": "7b92e43c-2920-46cd-aa0c-9411fbccf3b3",
   "metadata": {},
   "source": [
    "Here we will create a simple pytorch transformer. Because the model will only be doing binary classification and we are limited in our computing power, we will use a relatively small transformer that uses far fewer parameters than a typical transformer like BERT. We will start with an encoder model, but if it performs poorly we can try a decoder model."
   ]
  },
  {
   "cell_type": "code",
   "execution_count": 2,
   "id": "e0e112f2-725e-48dc-8c1a-cf9c1775f08c",
   "metadata": {},
   "outputs": [],
   "source": [
    "class TransformerModel(nn.Module):\n",
    "\n",
    "    def __init__(self, embedding_matrix, model_size, n_heads, n_layers, hidden_size, embedding_dims=100, vocab_size=None):\n",
    "        super().__init__()\n",
    "\n",
    "        if not (embedding_matrix is None): #glove\n",
    "            self.embedding = nn.Embedding.from_pretrained(torch.FloatTensor(embedding_matrix))\n",
    "        else:\n",
    "            self.embedding = nn.Embedding(vocab_size, embedding_dims)\n",
    "        self.pos_encoding = PositionalEncoding(embedding_dims, max_length)\n",
    "        self.input_linear = nn.Linear(embedding_dims, model_size)\n",
    "        encoder_layers = nn.TransformerEncoderLayer(model_size, n_heads, hidden_size, batch_first=True)\n",
    "        self.encoder = nn.TransformerEncoder(encoder_layers, n_layers)\n",
    "        #self.encoder = nn.Transformer(encoder_layers, n_layers, batch_first=True)\n",
    "        self.output_hidden_1 = nn.Linear(model_size, hidden_size)\n",
    "        self.relu = nn.ReLU()\n",
    "        self.output_hidden_2 = nn.Linear(hidden_size, 2) #binary classification\n",
    "        self.model_size = model_size\n",
    "\n",
    "        #initialize\n",
    "        initrange = 0.1\n",
    "        self.input_linear.weight.data.uniform_(-initrange, initrange)\n",
    "        self.input_linear.bias.data.zero_()\n",
    "        self.output_hidden_1.weight.data.uniform_(-initrange, initrange)\n",
    "        self.output_hidden_1.bias.data.zero_()\n",
    "        self.output_hidden_2.weight.data.uniform_(-initrange, initrange)\n",
    "        self.output_hidden_2.bias.data.zero_()\n",
    "\n",
    "    def forward(self, input):\n",
    "\n",
    "        #print(\"intput.shape: \", input.shape, len(input.shape))\n",
    "        input = (self.embedding(input) * math.sqrt(self.model_size)) #recommended from documentation\n",
    "        input = self.pos_encoding(input)\n",
    "        #print(\"input after poe:\", input.shape)\n",
    "\n",
    "        input = self.input_linear(input) #get a representation that has the model size for the positionally encoded embeddings\n",
    "        #print(\"after input linear: \", input.shape)\n",
    "        \n",
    "        output = self.encoder(input)[:,0] #take the last vector\n",
    "        #print(\"after encoder: \", output.shape)\n",
    "        output = self.output_hidden_1(output)\n",
    "\n",
    "        output = self.relu(output)\n",
    "        output = self.output_hidden_2(output)\n",
    "\n",
    "        #print(\"after linear:\", output.shape)\n",
    "\n",
    "        return output\n",
    "\n",
    "class PositionalEncoding(nn.Module):\n",
    "\n",
    "    def __init__(self, model_size, max_len): #from torch documentation\n",
    "        super().__init__()\n",
    "        self.dropout = nn.Dropout(p=0.1)\n",
    "        position = torch.arange(max_len).unsqueeze(1)\n",
    "        div_term = torch.exp(torch.arange(0, model_size, 2) * (-math.log(10000.0) / model_size))\n",
    "        pe = torch.zeros(max_len, 1, model_size)\n",
    "        pe[:, 0, 0::2] = torch.sin(position * div_term)\n",
    "        pe[:, 0, 1::2] = torch.cos(position * div_term)\n",
    "        self.register_buffer('pe', pe)\n",
    "        \n",
    "    def forward(self, x):\n",
    "        x = x + self.pe[:x.size(0)]\n",
    "        return self.dropout(x)"
   ]
  },
  {
   "cell_type": "markdown",
   "id": "e024499f-d442-467f-b32d-69d7426245eb",
   "metadata": {},
   "source": [
    "Here we will define our hyperparameters:"
   ]
  },
  {
   "cell_type": "code",
   "execution_count": null,
   "id": "6e18d23b-8cc6-4c39-891e-d653137fa94b",
   "metadata": {},
   "outputs": [],
   "source": [
    "epochs = 6\n",
    "batch_size = 32\n",
    "print_frequency = 250\n",
    "n_heads = 2\n",
    "n_layers = 2\n",
    "model_size = 28\n",
    "hidden_size = 48\n",
    "pos_weight_coeff = 1.05 # >1 increases recall, <1 increases precision\n",
    "\n",
    "'''\n",
    "epochs = 6\n",
    "batch_size = 32\n",
    "n_heads = 2\n",
    "n_layers = 2\n",
    "model_size = 28\n",
    "hidden_size = 48\n",
    "pos_weight_coeff = 1.05\n",
    "lr=0.001\n",
    "->\n",
    "accuracy: 3755/4000 = 0.93875\n",
    "True positive: 0.45225\n",
    "False positive: 0.034\n",
    "True negative: 0.4865\n",
    "False negative: 0.02725\n",
    "(P, R, F-Score) = (0.4817576564580559, 0.943169968717414, 0.6377578001057641)\n",
    "'''\n",
    "\n",
    "spam_model = TransformerModel(embedding_matrix, model_size=model_size, n_heads=n_heads, n_layers=n_layers, hidden_size=hidden_size)\n",
    "\n",
    "import traceback, copy\n",
    "\n",
    "criteria = nn.BCEWithLogitsLoss(pos_weight=torch.tensor([pos_weight_coeff]))\n",
    "optimizer = torch.optim.AdamW(spam_model.parameters(), lr=0.001)"
   ]
  },
  {
   "cell_type": "markdown",
   "id": "d76df049-4052-4bd9-a3fb-4c88083d5046",
   "metadata": {},
   "source": [
    "Here we will define our training loop:"
   ]
  },
  {
   "cell_type": "code",
   "execution_count": 3,
   "id": "d3f70806-ebae-4997-9718-b4fa709e43a2",
   "metadata": {},
   "outputs": [],
   "source": [
    "\n",
    "def training_loop(model, dataloader):\n",
    "    one_hot = torch.tensor(np.array([[1, 0], [0, 1]]), dtype=torch.float)\n",
    "    losses = []\n",
    "    lowest_loss = 1e5\n",
    "    best_model_sd = None\n",
    "    \n",
    "    for i in range(epochs):\n",
    "        print(\"--- Epoch %s --- \" % (i+1))\n",
    "    \n",
    "        model.train()\n",
    "        avg_loss = 0\n",
    "    \n",
    "        for step, data in enumerate(dataloader):\n",
    "            x,y = data\n",
    "            x = x.squeeze()\n",
    "            if (len(x.shape) == 0): continue\n",
    "            optimizer.zero_grad()\n",
    "    \n",
    "            output = model(x)\n",
    "            loss = criteria(output, one_hot[y])\n",
    "    \n",
    "            loss.backward()\n",
    "            optimizer.step()\n",
    "    \n",
    "            avg_loss += loss.item()\n",
    "    \n",
    "            if step % print_frequency == 1 and step > 1:\n",
    "                losses.append(avg_loss / print_frequency)\n",
    "                #print(output, one_hot[y])\n",
    "                avg_loss /= print_frequency\n",
    "                print('epoch: {} batch: {} loss: {}'.format(\n",
    "                    i,\n",
    "                    step,\n",
    "                    avg_loss\n",
    "                ))\n",
    "                if (avg_loss < lowest_loss):\n",
    "                    lowest_loss = avg_loss\n",
    "                    best_model_sd = copy.deepcopy(model.state_dict())\n",
    "                \n",
    "                avg_loss = 0\n",
    "    \n",
    "    plt.plot(losses)\n",
    "    plt.xlabel(\"Step (Print frequency %s)\" % print_frequency)\n",
    "    plt.ylabel(\"Loss\")\n",
    "    plt.title(\"Loss vs. Step #\")\n",
    "    plt.show()\n",
    "\n",
    "    return [model, best_model_sd]\n"
   ]
  },
  {
   "cell_type": "code",
   "execution_count": 19,
   "id": "48c82653-59ec-45d9-a3a9-94bd0dfb0614",
   "metadata": {},
   "outputs": [
    {
     "name": "stdout",
     "output_type": "stream",
     "text": [
      "--- Epoch 1 --- \n",
      "epoch: 0 batch: 251 loss: 0.4593024874031544\n",
      "epoch: 0 batch: 501 loss: 0.2759305145144463\n",
      "epoch: 0 batch: 751 loss: 0.2719428166747093\n",
      "epoch: 0 batch: 1001 loss: 0.24769739328324794\n",
      "epoch: 0 batch: 1251 loss: 0.2386951026916504\n",
      "epoch: 0 batch: 1501 loss: 0.22729503881931304\n",
      "epoch: 0 batch: 1751 loss: 0.23034461492300035\n",
      "epoch: 0 batch: 2001 loss: 0.2067235134616494\n",
      "epoch: 0 batch: 2251 loss: 0.22102808628976345\n",
      "epoch: 0 batch: 2501 loss: 0.20482587586343287\n",
      "epoch: 0 batch: 2751 loss: 0.19655827356874941\n",
      "epoch: 0 batch: 3001 loss: 0.1973212195634842\n",
      "epoch: 0 batch: 3251 loss: 0.19699283502995968\n",
      "--- Epoch 2 --- \n",
      "epoch: 1 batch: 251 loss: 0.18825771906226874\n",
      "epoch: 1 batch: 501 loss: 0.18078761412203312\n",
      "epoch: 1 batch: 751 loss: 0.17484294582903384\n",
      "epoch: 1 batch: 1001 loss: 0.17049027483165263\n",
      "epoch: 1 batch: 1251 loss: 0.17678494935482741\n",
      "epoch: 1 batch: 1501 loss: 0.18349862195551395\n",
      "epoch: 1 batch: 1751 loss: 0.1709393737912178\n",
      "epoch: 1 batch: 2001 loss: 0.15740256822109222\n",
      "epoch: 1 batch: 2251 loss: 0.1729959648512304\n",
      "epoch: 1 batch: 2501 loss: 0.1694962977319956\n",
      "epoch: 1 batch: 2751 loss: 0.1606757271513343\n",
      "epoch: 1 batch: 3001 loss: 0.1673465725556016\n",
      "epoch: 1 batch: 3251 loss: 0.16971538614481688\n",
      "--- Epoch 3 --- \n",
      "epoch: 2 batch: 251 loss: 0.16489440064877273\n",
      "epoch: 2 batch: 501 loss: 0.14901868215948344\n",
      "epoch: 2 batch: 751 loss: 0.15233429243415594\n",
      "epoch: 2 batch: 1001 loss: 0.15287362521141767\n",
      "epoch: 2 batch: 1251 loss: 0.15507097586616875\n",
      "epoch: 2 batch: 1501 loss: 0.1586574266180396\n",
      "epoch: 2 batch: 1751 loss: 0.15473696966469289\n",
      "epoch: 2 batch: 2001 loss: 0.1408000520914793\n",
      "epoch: 2 batch: 2251 loss: 0.15674130154401064\n",
      "epoch: 2 batch: 2501 loss: 0.14311917755007744\n",
      "epoch: 2 batch: 2751 loss: 0.14714282846450805\n",
      "epoch: 2 batch: 3001 loss: 0.15118952369689942\n",
      "epoch: 2 batch: 3251 loss: 0.15534646949917078\n",
      "--- Epoch 4 --- \n",
      "epoch: 3 batch: 251 loss: 0.14342911238968373\n",
      "epoch: 3 batch: 501 loss: 0.1432832271233201\n",
      "epoch: 3 batch: 751 loss: 0.13513911396078765\n",
      "epoch: 3 batch: 1001 loss: 0.1344120874889195\n",
      "epoch: 3 batch: 1251 loss: 0.138745404265821\n",
      "epoch: 3 batch: 1501 loss: 0.14433269702643156\n",
      "epoch: 3 batch: 1751 loss: 0.13794384858012199\n",
      "epoch: 3 batch: 2001 loss: 0.1288452663458884\n",
      "epoch: 3 batch: 2251 loss: 0.1426658404096961\n",
      "epoch: 3 batch: 2501 loss: 0.13283330949768424\n",
      "epoch: 3 batch: 2751 loss: 0.13823342655971646\n",
      "epoch: 3 batch: 3001 loss: 0.13856300729885698\n",
      "epoch: 3 batch: 3251 loss: 0.14090412624180318\n",
      "--- Epoch 5 --- \n",
      "epoch: 4 batch: 251 loss: 0.13868485566601157\n",
      "epoch: 4 batch: 501 loss: 0.13515870252624154\n",
      "epoch: 4 batch: 751 loss: 0.1290779438354075\n",
      "epoch: 4 batch: 1001 loss: 0.13067028874903916\n",
      "epoch: 4 batch: 1251 loss: 0.13100356878340244\n",
      "epoch: 4 batch: 1501 loss: 0.13601993890851735\n",
      "epoch: 4 batch: 1751 loss: 0.12994564665853978\n",
      "epoch: 4 batch: 2001 loss: 0.12578874472156168\n",
      "epoch: 4 batch: 2251 loss: 0.13563964906334877\n",
      "epoch: 4 batch: 2501 loss: 0.12922211637347936\n",
      "epoch: 4 batch: 2751 loss: 0.13298986173048616\n",
      "epoch: 4 batch: 3001 loss: 0.1325967532172799\n",
      "epoch: 4 batch: 3251 loss: 0.13964338318631053\n",
      "--- Epoch 6 --- \n",
      "epoch: 5 batch: 251 loss: 0.14004219002276658\n",
      "epoch: 5 batch: 501 loss: 0.12848980522900819\n",
      "epoch: 5 batch: 751 loss: 0.11358751039206981\n",
      "epoch: 5 batch: 1001 loss: 0.12699954695254564\n",
      "epoch: 5 batch: 1251 loss: 0.1279807679094374\n",
      "epoch: 5 batch: 1501 loss: 0.12853240121901036\n",
      "epoch: 5 batch: 1751 loss: 0.1217919506803155\n",
      "epoch: 5 batch: 2001 loss: 0.11349672686122358\n",
      "epoch: 5 batch: 2251 loss: 0.1287734692580998\n",
      "epoch: 5 batch: 2501 loss: 0.12225818550959229\n",
      "epoch: 5 batch: 2751 loss: 0.12317212817072869\n",
      "epoch: 5 batch: 3001 loss: 0.12318309802561998\n",
      "epoch: 5 batch: 3251 loss: 0.13338668311201035\n"
     ]
    },
    {
     "data": {
      "image/png": "[encoded data removed]",
      "text/plain": [
       "<Figure size 640x480 with 1 Axes>"
      ]
     },
     "metadata": {},
     "output_type": "display_data"
    }
   ],
   "source": [
    "\n",
    "spam_train_dataloader = torch.utils.data.DataLoader(tokenized_spam_train, batch_size=batch_size)\n",
    "\n",
    "spam_model, best_model_sd = training_loop(spam_model, spam_train_dataloader)\n",
    "\n",
    "best_model = TransformerModel(embedding_matrix, model_size=model_size, n_heads=n_heads, n_layers=n_layers, hidden_size=hidden_size)\n",
    "best_model.load_state_dict(best_model_sd)"
   ]
  },
  {
   "cell_type": "code",
   "execution_count": 17,
   "id": "962ad323-a704-4470-a8ee-34100ded6f31",
   "metadata": {},
   "outputs": [],
   "source": [
    "def predict(model, valid_dataloader):\n",
    "\n",
    "    softmax = nn.Softmax()\n",
    "\n",
    "    model.eval()\n",
    "    \n",
    "    sigmoid = nn.Sigmoid()\n",
    "\n",
    "    total_examples = 0\n",
    "    total_positive = 0\n",
    "    total_negative = 0\n",
    "\n",
    "    true_positive = 0\n",
    "    false_positive = 0\n",
    "    true_negative = 0\n",
    "    false_negative = 0\n",
    "\n",
    "    for x, y in valid_dataloader:\n",
    "        x = x.squeeze()\n",
    "        if (len(x.shape) == 0): continue\n",
    "        output = model(x)\n",
    "        output = softmax(output)\n",
    "\n",
    "        for i in range(output.shape[0]):\n",
    "            if (output[i][0].item() >= 0.5):\n",
    "                if (y[i].item() == 0):\n",
    "                    true_negative += 1\n",
    "                    total_negative += 1\n",
    "                else:\n",
    "                    false_negative += 1\n",
    "                    total_positive += 1\n",
    "            else:\n",
    "                if (y[i].item() == 0):\n",
    "                    false_positive += 1\n",
    "                    total_negative += 1\n",
    "                else:\n",
    "                    true_positive += 1\n",
    "                    total_positive += 1\n",
    "        total_examples += output.shape[0]\n",
    "        #print(\"total examples:\", total_examples, \"; T+:\", true_positive, \"; F+:\", false_positive, \"; T-:\", true_negative, \"; F-:\", false_negative)\n",
    "\n",
    "    accuracy = (true_positive + true_negative) / total_examples\n",
    "    t_p = true_positive/total_examples\n",
    "    f_p = false_positive/total_examples\n",
    "    t_n = true_negative/total_examples\n",
    "    f_n = false_negative/total_examples\n",
    "    p = true_positive/(true_positive + false_positive)\n",
    "    r = true_positive/(true_positive + false_negative)\n",
    "    f_score = (2*p*r)/(p+r)\n",
    "\n",
    "    print('accuracy: %s/%s = %s' % (true_positive+true_negative, total_examples, (true_positive + true_negative) / total_examples))\n",
    "    print('True positive: %s' % t_p)\n",
    "    print(\"False positive: %s\" % f_p)\n",
    "    print('True negative: %s' % t_n)\n",
    "    print(\"False negative: %s\" % f_n)\n",
    "    print(\"(P, R, F-Score) = (%s, %s, %s)\\n\" % (p, r, f_score))\n",
    "    return accuracy"
   ]
  },
  {
   "cell_type": "code",
   "execution_count": 21,
   "id": "586fd475-1657-43bf-8837-d08ab61eb35f",
   "metadata": {},
   "outputs": [
    {
     "name": "stdout",
     "output_type": "stream",
     "text": [
      "BEST MODEL:\n"
     ]
    },
    {
     "name": "stderr",
     "output_type": "stream",
     "text": [
      "/home/ubuntu/.local/lib/python3.8/site-packages/torch/nn/modules/module.py:1511: UserWarning: Implicit dimension choice for softmax has been deprecated. Change the call to include dim=X as an argument.\n",
      "  return self._call_impl(*args, **kwargs)\n"
     ]
    },
    {
     "name": "stdout",
     "output_type": "stream",
     "text": [
      "accuracy: 26104/27139 = 0.9618630015844357\n",
      "True positive: 0.45325914735251854\n",
      "False positive: 0.022403183610302517\n",
      "True negative: 0.5086038542319171\n",
      "False negative: 0.0157338148052618\n",
      "(P, R, F-Score) = (0.9529010767681463, 0.9664519170333123, 0.9596286616998869)\n",
      "\n",
      "LAST MODEL:\n",
      "accuracy: 26118/27139 = 0.962378864364936\n",
      "True positive: 0.4499428866207303\n",
      "False positive: 0.018571060098013927\n",
      "True negative: 0.5124359777442058\n",
      "False negative: 0.01905007553705\n",
      "(P, R, F-Score) = (0.9603617774282344, 0.9593808925204274, 0.9598710843847031)\n",
      "\n"
     ]
    },
    {
     "data": {
      "text/plain": [
       "0.962378864364936"
      ]
     },
     "execution_count": 21,
     "metadata": {},
     "output_type": "execute_result"
    }
   ],
   "source": [
    "\n",
    "spam_valid_dataloader = torch.utils.data.DataLoader(tokenized_spam_valid, batch_size=batch_size)\n",
    "print(\"BEST MODEL:\")\n",
    "predict(best_model, spam_valid_dataloader)\n",
    "print(\"LAST MODEL:\")\n",
    "predict(spam_model, spam_valid_dataloader)\n"
   ]
  },
  {
   "cell_type": "markdown",
   "id": "a2ec9a75-5692-4de5-b16a-0c6966eb421c",
   "metadata": {},
   "source": [
    "# Validation Set Results\n",
    "\n",
    "With these hyperparameters, the best model was able to achieve almost 96% accuracy on the validation set! Also, the false negative rate is lower than the false positive rate. This is good because the model's loss function will focus more on recall, as there is more danger with a malicious email that is not filtered than a safe email that is falsely labeled as spam. The F1 score is also well above our acceptable cutoff of 0.7.\n",
    "\n",
    "Lastly, we will save the best model's state dictionary:\n"
   ]
  },
  {
   "cell_type": "code",
   "execution_count": 23,
   "id": "74d60142-92d1-48fe-bcbd-b4941ba890df",
   "metadata": {},
   "outputs": [],
   "source": [
    "torch.save(best_model_sd, \"./trained_models/spam.pt\")\n",
    "torch.save(spam_model.state_dict(), \"./trained_models/spam_last.pt\")"
   ]
  },
  {
   "cell_type": "markdown",
   "id": "b6806991-66b7-4713-a364-b2a74fc957ea",
   "metadata": {},
   "source": [
    "# URLs Dataset\n",
    "\n",
    "The 2nd part of the model will be a transformer very similar to the spam transformer, although the key difference is in the embedding layer. Since there are no glove embeddings for most of the components of a url, and there could be words that are put together without any hyphenation, we will first try training the model off of character embeddings. \n",
    "\n",
    "First, we will load and tokenize the dataset:"
   ]
  },
  {
   "cell_type": "code",
   "execution_count": 5,
   "id": "00f0f6f9-eccb-40c1-8ea9-71b39d288306",
   "metadata": {},
   "outputs": [
    {
     "data": {
      "text/html": [
       "<div>\n",
       "<style scoped>\n",
       "    .dataframe tbody tr th:only-of-type {\n",
       "        vertical-align: middle;\n",
       "    }\n",
       "\n",
       "    .dataframe tbody tr th {\n",
       "        vertical-align: top;\n",
       "    }\n",
       "\n",
       "    .dataframe thead th {\n",
       "        text-align: right;\n",
       "    }\n",
       "</style>\n",
       "<table border=\"1\" class=\"dataframe\">\n",
       "  <thead>\n",
       "    <tr style=\"text-align: right;\">\n",
       "      <th></th>\n",
       "      <th>label</th>\n",
       "      <th>text</th>\n",
       "    </tr>\n",
       "  </thead>\n",
       "  <tbody>\n",
       "    <tr>\n",
       "      <th>0</th>\n",
       "      <td>0</td>\n",
       "      <td>https://blog.sockpuppet.us/</td>\n",
       "    </tr>\n",
       "    <tr>\n",
       "      <th>1</th>\n",
       "      <td>0</td>\n",
       "      <td>https://blog.apiki.com/seguranca/</td>\n",
       "    </tr>\n",
       "    <tr>\n",
       "      <th>2</th>\n",
       "      <td>1</td>\n",
       "      <td>http://autoecole-lauriston.com/a/T0RVd056QXlNe...</td>\n",
       "    </tr>\n",
       "    <tr>\n",
       "      <th>3</th>\n",
       "      <td>1</td>\n",
       "      <td>http://chinpay.site/index.html?hgcFSE@E$Z*DFcG...</td>\n",
       "    </tr>\n",
       "    <tr>\n",
       "      <th>4</th>\n",
       "      <td>0</td>\n",
       "      <td>http://www.firstfivenebraska.org/blog/article/...</td>\n",
       "    </tr>\n",
       "  </tbody>\n",
       "</table>\n",
       "</div>"
      ],
      "text/plain": [
       "   label                                               text\n",
       "0      0                        https://blog.sockpuppet.us/\n",
       "1      0                  https://blog.apiki.com/seguranca/\n",
       "2      1  http://autoecole-lauriston.com/a/T0RVd056QXlNe...\n",
       "3      1  http://chinpay.site/index.html?hgcFSE@E$Z*DFcG...\n",
       "4      0  http://www.firstfivenebraska.org/blog/article/..."
      ]
     },
     "execution_count": 5,
     "metadata": {},
     "output_type": "execute_result"
    }
   ],
   "source": [
    "urls_full = pd.read_csv('./datasets/PhishingURLs/train.csv', nrows=40000)\n",
    "\n",
    "#Data preprocessing, from data_stats.ipynb\n",
    "urls_full = urls_full.dropna()\n",
    "possible_labels = urls_full[\"label\"].unique()\n",
    "urls_full[\"label\"] = urls_full[\"label\"].apply(lambda x: 2 - x) #1=phishing\n",
    "\n",
    "urls_full.head()"
   ]
  },
  {
   "cell_type": "code",
   "execution_count": 6,
   "id": "1ae01a7b-480a-4e03-84f5-0e4aca79b64b",
   "metadata": {},
   "outputs": [],
   "source": [
    "#Split into train and validate sets\n",
    "split_ratio = 0.8\n",
    "train_size = int(split_ratio*urls_full.shape[0])\n",
    "urls_train = urls_full.iloc[:train_size]\n",
    "urls_valid = urls_full.iloc[train_size:]\n",
    "max_length = 120"
   ]
  },
  {
   "cell_type": "code",
   "execution_count": 7,
   "id": "e0140926-9d0c-42a5-93fe-8e8eafad31d1",
   "metadata": {},
   "outputs": [
    {
     "name": "stdout",
     "output_type": "stream",
     "text": [
      "Vocab:\n",
      "{'<start>': 0, '<pad>': 1, '<unk>': 2, 'a': 3, 'b': 4, 'c': 5, 'd': 6, 'e': 7, 'f': 8, 'g': 9, 'h': 10, 'i': 11, 'j': 12, 'k': 13, 'l': 14, 'm': 15, 'n': 16, 'o': 17, 'p': 18, 'q': 19, 'r': 20, 's': 21, 't': 22, 'u': 23, 'v': 24, 'w': 25, 'x': 26, 'y': 27, 'z': 28, '1': 29, '2': 30, '3': 31, '4': 32, '5': 33, '6': 34, '7': 35, '8': 36, '9': 37, '0': 38, '.': 39, '/': 40, '-': 41, ':': 42, '@': 43, '&': 44, '?': 45}\n",
      "Testing:\n",
      "Size 120, [ 0  2 10 22 22 18 21 42 40 40  3  4  5 39 26 27 28  1  1  1  1  1  1  1\n",
      "  1  1  1  1  1  1  1  1  1  1  1  1  1  1  1  1  1  1  1  1  1  1  1  1\n",
      "  1  1  1  1  1  1  1  1  1  1  1  1  1  1  1  1  1  1  1  1  1  1  1  1\n",
      "  1  1  1  1  1  1  1  1  1  1  1  1  1  1  1  1  1  1  1  1  1  1  1  1\n",
      "  1  1  1  1  1  1  1  1  1  1  1  1  1  1  1  1  1  1  1  1  1  1  1  1]\n"
     ]
    }
   ],
   "source": [
    "\n",
    "#our vocab is small enough that it can be written out manually. In our dataset, all of the examples are .com domains.\n",
    "alphabet = 'abcdefghijklmnopqrstuvwxyz1234567890./-:@&?'\n",
    "vocab = {'<start>': 0, '<pad>': 1, '<unk>': 2} #special tokens\n",
    "num_special_tokens = len(vocab)\n",
    "for i in range(len(alphabet)):\n",
    "    vocab[alphabet[i]] = i + num_special_tokens\n",
    "print(\"Vocab:\")\n",
    "print(vocab)\n",
    "\n",
    "def tokenize_url_example(example):\n",
    "    tokenized = [vocab[\"<start>\"]]\n",
    "    padding = vocab['<pad>']\n",
    "    unk = vocab['<unk>']\n",
    "    \n",
    "    for i in range(min(len(example), max_length-1)):\n",
    "        char = example[i]\n",
    "        if not char in vocab: tokenized.append(unk)\n",
    "        else: tokenized.append(vocab[char])\n",
    "    tokenized += [padding]*(max_length - len(example) - 1)\n",
    "    return np.array(tokenized)\n",
    "\n",
    "print(\"Testing:\")\n",
    "token_test = tokenize_url_example(\"!https://abc.xyz\")\n",
    "print(\"Size %s, %s\" % (len(token_test), token_test))\n"
   ]
  },
  {
   "cell_type": "code",
   "execution_count": 8,
   "id": "a52b2a11-f566-46fb-b371-a7f4202cf574",
   "metadata": {},
   "outputs": [
    {
     "name": "stdout",
     "output_type": "stream",
     "text": [
      "[(array([ 0, 10, 22, 22, 18, 21, 42, 40, 40,  4, 14, 17,  9, 39, 21, 17,  5,\n",
      "       13, 18, 23, 18, 18,  7, 22, 39, 23, 21, 40,  1,  1,  1,  1,  1,  1,\n",
      "        1,  1,  1,  1,  1,  1,  1,  1,  1,  1,  1,  1,  1,  1,  1,  1,  1,\n",
      "        1,  1,  1,  1,  1,  1,  1,  1,  1,  1,  1,  1,  1,  1,  1,  1,  1,\n",
      "        1,  1,  1,  1,  1,  1,  1,  1,  1,  1,  1,  1,  1,  1,  1,  1,  1,\n",
      "        1,  1,  1,  1,  1,  1,  1,  1,  1,  1,  1,  1,  1,  1,  1,  1,  1,\n",
      "        1,  1,  1,  1,  1,  1,  1,  1,  1,  1,  1,  1,  1,  1,  1,  1,  1,\n",
      "        1]), 0), (array([ 0, 10, 22, 22, 18, 21, 42, 40, 40,  4, 14, 17,  9, 39,  3, 18, 11,\n",
      "       13, 11, 39,  5, 17, 15, 40, 21,  7,  9, 23, 20,  3, 16,  5,  3, 40,\n",
      "        1,  1,  1,  1,  1,  1,  1,  1,  1,  1,  1,  1,  1,  1,  1,  1,  1,\n",
      "        1,  1,  1,  1,  1,  1,  1,  1,  1,  1,  1,  1,  1,  1,  1,  1,  1,\n",
      "        1,  1,  1,  1,  1,  1,  1,  1,  1,  1,  1,  1,  1,  1,  1,  1,  1,\n",
      "        1,  1,  1,  1,  1,  1,  1,  1,  1,  1,  1,  1,  1,  1,  1,  1,  1,\n",
      "        1,  1,  1,  1,  1,  1,  1,  1,  1,  1,  1,  1,  1,  1,  1,  1,  1,\n",
      "        1]), 0), (array([ 0, 10, 22, 22, 18, 42, 40, 40,  3, 23, 22, 17,  7,  5, 17, 14,  7,\n",
      "       41, 14,  3, 23, 20, 11, 21, 22, 17, 16, 39,  5, 17, 15, 40,  3, 40,\n",
      "        2, 38,  2,  2,  6, 38, 33, 34,  2,  2, 14,  2,  7, 14,  2, 34,  2,\n",
      "       29,  2, 16,  2,  2,  2,  2, 40,  1,  1,  1,  1,  1,  1,  1,  1,  1,\n",
      "        1,  1,  1,  1,  1,  1,  1,  1,  1,  1,  1,  1,  1,  1,  1,  1,  1,\n",
      "        1,  1,  1,  1,  1,  1,  1,  1,  1,  1,  1,  1,  1,  1,  1,  1,  1,\n",
      "        1,  1,  1,  1,  1,  1,  1,  1,  1,  1,  1,  1,  1,  1,  1,  1,  1,\n",
      "        1]), 1)]\n"
     ]
    }
   ],
   "source": [
    "#Tokenize the examples\n",
    "def tokenize_urls(df):\n",
    "    examples = []\n",
    "    for index, row in df.iterrows():\n",
    "        examples.append((tokenize_url_example(row[\"text\"]), row[\"label\"]))\n",
    "    return examples\n",
    "\n",
    "tokenized_url_train = tokenize_urls(urls_train)\n",
    "tokenized_url_valid = tokenize_urls(urls_valid)\n",
    "\n",
    "print(tokenized_url_train[:3]) # :3"
   ]
  },
  {
   "cell_type": "markdown",
   "id": "c2f94577-7bc2-45d0-8b91-2695af3d5d27",
   "metadata": {},
   "source": [
    "We will now define the hyperparameters and run the training loop. The transformer model from last time can be used, as we've added functionality to either use the pretrained Glove embeddings or train our own embedding space."
   ]
  },
  {
   "cell_type": "code",
   "execution_count": 9,
   "id": "8f46ec7d-8d16-41f4-8205-981c879ba2e8",
   "metadata": {},
   "outputs": [],
   "source": [
    "epochs = 6\n",
    "batch_size = 32\n",
    "print_frequency = 50\n",
    "n_heads = 2\n",
    "n_layers = 2\n",
    "model_size = 70\n",
    "hidden_size = 40\n",
    "pos_weight_coeff = 1 # >1 increases recall, <1 increases precision\n",
    "embedding_dims = 40\n",
    "\n",
    "url_model = TransformerModel(None, model_size=model_size, n_heads=n_heads, \n",
    "                             n_layers=n_layers, hidden_size=hidden_size, vocab_size=len(vocab), embedding_dims=embedding_dims)\n",
    "\n",
    "import copy\n",
    "\n",
    "criteria = nn.BCEWithLogitsLoss(pos_weight=torch.tensor([pos_weight_coeff]))\n",
    "optimizer = torch.optim.AdamW(url_model.parameters(), lr=0.001)\n"
   ]
  },
  {
   "cell_type": "markdown",
   "id": "1c75cd77-6dee-461a-af7c-7ea2f52460d3",
   "metadata": {},
   "source": [
    "We can now train the model using the same training loop as before:"
   ]
  },
  {
   "cell_type": "code",
   "execution_count": 10,
   "id": "62dee46b-3a73-465c-b9ec-a444f951b98a",
   "metadata": {},
   "outputs": [
    {
     "name": "stdout",
     "output_type": "stream",
     "text": [
      "--- Epoch 1 --- \n",
      "epoch: 0 batch: 51 loss: 0.6485944837331772\n",
      "epoch: 0 batch: 101 loss: 0.5701028490066529\n",
      "epoch: 0 batch: 151 loss: 0.5596584641933441\n",
      "epoch: 0 batch: 201 loss: 0.5513814449310303\n",
      "epoch: 0 batch: 251 loss: 0.5102634090185165\n",
      "epoch: 0 batch: 301 loss: 0.539880251288414\n",
      "epoch: 0 batch: 351 loss: 0.5231969183683396\n",
      "epoch: 0 batch: 401 loss: 0.5142848008871078\n",
      "epoch: 0 batch: 451 loss: 0.4975337994098663\n",
      "epoch: 0 batch: 501 loss: 0.49171024799346924\n",
      "epoch: 0 batch: 551 loss: 0.48825276613235474\n",
      "epoch: 0 batch: 601 loss: 0.5094820594787598\n",
      "epoch: 0 batch: 651 loss: 0.5061670958995819\n",
      "epoch: 0 batch: 701 loss: 0.4918027555942535\n",
      "epoch: 0 batch: 751 loss: 0.49270528078079223\n",
      "epoch: 0 batch: 801 loss: 0.46244375348091127\n",
      "epoch: 0 batch: 851 loss: 0.47776552379131315\n",
      "epoch: 0 batch: 901 loss: 0.4804371112585068\n",
      "epoch: 0 batch: 951 loss: 0.48764714479446414\n",
      "--- Epoch 2 --- \n",
      "epoch: 1 batch: 51 loss: 0.4807135146856308\n",
      "epoch: 1 batch: 101 loss: 0.4907750868797302\n",
      "epoch: 1 batch: 151 loss: 0.47744833171367645\n",
      "epoch: 1 batch: 201 loss: 0.4715676897764206\n",
      "epoch: 1 batch: 251 loss: 0.4460365256667137\n",
      "epoch: 1 batch: 301 loss: 0.49045330941677096\n",
      "epoch: 1 batch: 351 loss: 0.4708458340167999\n",
      "epoch: 1 batch: 401 loss: 0.47300786077976226\n",
      "epoch: 1 batch: 451 loss: 0.47710879623889924\n",
      "epoch: 1 batch: 501 loss: 0.4599336719512939\n",
      "epoch: 1 batch: 551 loss: 0.46007978916168213\n",
      "epoch: 1 batch: 601 loss: 0.4738731336593628\n",
      "epoch: 1 batch: 651 loss: 0.4727116012573242\n",
      "epoch: 1 batch: 701 loss: 0.4589884340763092\n",
      "epoch: 1 batch: 751 loss: 0.46557501316070554\n",
      "epoch: 1 batch: 801 loss: 0.441734721660614\n",
      "epoch: 1 batch: 851 loss: 0.44246034443378446\n",
      "epoch: 1 batch: 901 loss: 0.4612456977367401\n",
      "epoch: 1 batch: 951 loss: 0.46960955202579496\n",
      "--- Epoch 3 --- \n",
      "epoch: 2 batch: 51 loss: 0.4536351674795151\n",
      "epoch: 2 batch: 101 loss: 0.4490747845172882\n",
      "epoch: 2 batch: 151 loss: 0.46362250089645385\n",
      "epoch: 2 batch: 201 loss: 0.4643672502040863\n",
      "epoch: 2 batch: 251 loss: 0.42296991884708407\n",
      "epoch: 2 batch: 301 loss: 0.4753662246465683\n",
      "epoch: 2 batch: 351 loss: 0.4559915664792061\n",
      "epoch: 2 batch: 401 loss: 0.4606088227033615\n",
      "epoch: 2 batch: 451 loss: 0.4588994073867798\n",
      "epoch: 2 batch: 501 loss: 0.43520265877246855\n",
      "epoch: 2 batch: 551 loss: 0.44464724957942964\n",
      "epoch: 2 batch: 601 loss: 0.4584231120347977\n",
      "epoch: 2 batch: 651 loss: 0.45428125858306884\n",
      "epoch: 2 batch: 701 loss: 0.441876106262207\n",
      "epoch: 2 batch: 751 loss: 0.45249863624572756\n",
      "epoch: 2 batch: 801 loss: 0.4243469923734665\n",
      "epoch: 2 batch: 851 loss: 0.4530170941352844\n",
      "epoch: 2 batch: 901 loss: 0.46641257762908933\n",
      "epoch: 2 batch: 951 loss: 0.46140939116477964\n",
      "--- Epoch 4 --- \n",
      "epoch: 3 batch: 51 loss: 0.448243350982666\n",
      "epoch: 3 batch: 101 loss: 0.45982019424438475\n",
      "epoch: 3 batch: 151 loss: 0.4407339972257614\n",
      "epoch: 3 batch: 201 loss: 0.4589980560541153\n",
      "epoch: 3 batch: 251 loss: 0.43261763006448745\n",
      "epoch: 3 batch: 301 loss: 0.46101633965969085\n",
      "epoch: 3 batch: 351 loss: 0.44948281079530716\n",
      "epoch: 3 batch: 401 loss: 0.44595691829919815\n",
      "epoch: 3 batch: 451 loss: 0.45765979945659635\n",
      "epoch: 3 batch: 501 loss: 0.43940424382686616\n",
      "epoch: 3 batch: 551 loss: 0.42883852273225787\n",
      "epoch: 3 batch: 601 loss: 0.46715774714946745\n",
      "epoch: 3 batch: 651 loss: 0.45842487156391143\n",
      "epoch: 3 batch: 701 loss: 0.43465463936328885\n",
      "epoch: 3 batch: 751 loss: 0.4458747643232346\n",
      "epoch: 3 batch: 801 loss: 0.4268170529603958\n",
      "epoch: 3 batch: 851 loss: 0.4321697726845741\n",
      "epoch: 3 batch: 901 loss: 0.4548178493976593\n",
      "epoch: 3 batch: 951 loss: 0.4577147942781448\n",
      "--- Epoch 5 --- \n",
      "epoch: 4 batch: 51 loss: 0.4465842437744141\n",
      "epoch: 4 batch: 101 loss: 0.4311399781703949\n",
      "epoch: 4 batch: 151 loss: 0.45198380947113037\n",
      "epoch: 4 batch: 201 loss: 0.44837325930595395\n",
      "epoch: 4 batch: 251 loss: 0.42374478876590727\n",
      "epoch: 4 batch: 301 loss: 0.45968578338623045\n",
      "epoch: 4 batch: 351 loss: 0.4590683948993683\n",
      "epoch: 4 batch: 401 loss: 0.4527369511127472\n",
      "epoch: 4 batch: 451 loss: 0.45348860263824464\n",
      "epoch: 4 batch: 501 loss: 0.43338692009449004\n",
      "epoch: 4 batch: 551 loss: 0.4213280588388443\n",
      "epoch: 4 batch: 601 loss: 0.4563209342956543\n",
      "epoch: 4 batch: 651 loss: 0.4482459455728531\n",
      "epoch: 4 batch: 701 loss: 0.4246939718723297\n",
      "epoch: 4 batch: 751 loss: 0.44724068105220793\n",
      "epoch: 4 batch: 801 loss: 0.42065369367599487\n",
      "epoch: 4 batch: 851 loss: 0.428236141204834\n",
      "epoch: 4 batch: 901 loss: 0.4552721685171127\n",
      "epoch: 4 batch: 951 loss: 0.44001681804656984\n",
      "--- Epoch 6 --- \n",
      "epoch: 5 batch: 51 loss: 0.43720771968364713\n",
      "epoch: 5 batch: 101 loss: 0.439531791806221\n",
      "epoch: 5 batch: 151 loss: 0.4442675077915192\n",
      "epoch: 5 batch: 201 loss: 0.4452570962905884\n",
      "epoch: 5 batch: 251 loss: 0.4273122984170914\n",
      "epoch: 5 batch: 301 loss: 0.4533979570865631\n",
      "epoch: 5 batch: 351 loss: 0.4474365195631981\n",
      "epoch: 5 batch: 401 loss: 0.44810433000326155\n",
      "epoch: 5 batch: 451 loss: 0.44463716506958006\n",
      "epoch: 5 batch: 501 loss: 0.4301381498575211\n",
      "epoch: 5 batch: 551 loss: 0.42207172214984895\n",
      "epoch: 5 batch: 601 loss: 0.44945652425289156\n",
      "epoch: 5 batch: 651 loss: 0.44402225911617277\n",
      "epoch: 5 batch: 701 loss: 0.4343767189979553\n",
      "epoch: 5 batch: 751 loss: 0.4404629802703857\n",
      "epoch: 5 batch: 801 loss: 0.4157134646177292\n",
      "epoch: 5 batch: 851 loss: 0.43160991966724394\n",
      "epoch: 5 batch: 901 loss: 0.4519682174921036\n",
      "epoch: 5 batch: 951 loss: 0.44302717357873916\n"
     ]
    },
    {
     "data": {
      "image/png": "[encoded data removed]",
      "text/plain": [
       "<Figure size 640x480 with 1 Axes>"
      ]
     },
     "metadata": {},
     "output_type": "display_data"
    },
    {
     "data": {
      "text/plain": [
       "<All keys matched successfully>"
      ]
     },
     "execution_count": 10,
     "metadata": {},
     "output_type": "execute_result"
    }
   ],
   "source": [
    "url_train_dataloader = torch.utils.data.DataLoader(tokenized_url_train, batch_size=batch_size)\n",
    "\n",
    "url_model, best_url_model_sd = training_loop(url_model, url_train_dataloader)\n",
    "\n",
    "best_url_model = TransformerModel(None, model_size=model_size, n_heads=n_heads, n_layers=n_layers, hidden_size=hidden_size, vocab_size=len(vocab), embedding_dims=embedding_dims)\n",
    "best_url_model.load_state_dict(best_url_model_sd)"
   ]
  },
  {
   "cell_type": "code",
   "execution_count": 11,
   "id": "f8c9df9a-717e-4e4f-a12f-697eafaf5607",
   "metadata": {},
   "outputs": [
    {
     "name": "stdout",
     "output_type": "stream",
     "text": [
      "BEST MODEL:\n"
     ]
    },
    {
     "name": "stderr",
     "output_type": "stream",
     "text": [
      "/home/ubuntu/.local/lib/python3.8/site-packages/torch/nn/modules/module.py:1511: UserWarning: Implicit dimension choice for softmax has been deprecated. Change the call to include dim=X as an argument.\n",
      "  return self._call_impl(*args, **kwargs)\n"
     ]
    },
    {
     "name": "stdout",
     "output_type": "stream",
     "text": [
      "accuracy: 6340/8000 = 0.7925\n",
      "True positive: 0.434625\n",
      "False positive: 0.137375\n",
      "True negative: 0.357875\n",
      "False negative: 0.070125\n",
      "(P, R, F-Score) = (0.759833916083916, 0.8610698365527489, 0.8072904573949385)\n",
      "\n",
      "LAST MODEL:\n",
      "accuracy: 6458/8000 = 0.80725\n",
      "True positive: 0.40125\n",
      "False positive: 0.08925\n",
      "True negative: 0.406\n",
      "False negative: 0.1035\n",
      "(P, R, F-Score) = (0.8180428134556575, 0.7949479940564635, 0.8063300678221552)\n",
      "\n"
     ]
    },
    {
     "data": {
      "text/plain": [
       "0.80725"
      ]
     },
     "execution_count": 11,
     "metadata": {},
     "output_type": "execute_result"
    }
   ],
   "source": [
    "best_url_model = TransformerModel(None, model_size=model_size, n_heads=n_heads, n_layers=n_layers, hidden_size=hidden_size, vocab_size=len(vocab), embedding_dims=embedding_dims)\n",
    "best_url_model.load_state_dict(best_url_model_sd)\n",
    "\n",
    "urls_valid_dataloader = torch.utils.data.DataLoader(tokenized_url_valid, batch_size=batch_size)\n",
    "\n",
    "print(\"BEST MODEL:\")\n",
    "predict(best_url_model, urls_valid_dataloader)\n",
    "print(\"LAST MODEL:\")\n",
    "predict(url_model, urls_valid_dataloader)\n"
   ]
  },
  {
   "cell_type": "code",
   "execution_count": 13,
   "id": "bc255d57-4fb7-47cd-a252-8ba20ed8005e",
   "metadata": {},
   "outputs": [],
   "source": [
    "torch.save(best_url_model_sd, './trained_models/url_best.pt')\n",
    "torch.save(url_model.state_dict(), './trained_models/url_last.pt')"
   ]
  },
  {
   "cell_type": "markdown",
   "id": "48f53d9c-7996-4f69-b2a0-d06cb9956905",
   "metadata": {},
   "source": [
    "We can likely improve the URL transformer's results by changing how it is tokenized. With future work, we could use another tokenization method, such as sub-word tokenization that can tokenize chunks of the word. Tokenizing the URLs is particularily challenging because there is no obvious delimeter. If we split the example string by punctuation such as slashes or periods, we might have a large number of $<unk>$ tokens, even with legimate URLs because of compound words in domain names. The model does not need to learn the definitions of the tokens, either. So, in practice, it might make more sense to have a list of safe URLs (such as \"chase.com\" or \"google.com\"), and have a simpler model used in detecting if one URL is attempting to mimick a safe url. This could be done with something as simple as a rule-based model to get the differences between 2 strings. Another way is to have a system in place for users to report unsafe URLs."
   ]
  },
  {
   "cell_type": "markdown",
   "id": "41f02fb6-aa16-4822-a6f6-4a978cf81f82",
   "metadata": {},
   "source": [
    "# Test Set\n",
    "\n",
    "We will now evaluate the models on the testing sets."
   ]
  },
  {
   "cell_type": "code",
   "execution_count": 16,
   "id": "c6a8a6e4-c050-43df-880a-2a005d5df0c0",
   "metadata": {},
   "outputs": [],
   "source": [
    "spam_test = pd.read_csv(\"./datasets/SpamHam/test.csv\")\n",
    "\n",
    "start_id = word2id['<start>']\n",
    "\n",
    "def tokenize_example(line):\n",
    "    example = [start_id]\n",
    "    tokenized = nltk.word_tokenize(line)\n",
    "    i = 0\n",
    "    for token in tokenized:\n",
    "        if not (token in word2id): continue #not using <unk> for spam dataset\n",
    "        i += 1\n",
    "        if (i >= max_length): break\n",
    "        example.append(word2id[token])\n",
    "        \n",
    "    #add padding\n",
    "    padding = word2id[\"<pad>\"]\n",
    "    for i in range(max_length - len(example)):\n",
    "        example.append(padding)\n",
    "    return np.array(example)\n",
    "\n",
    "def tokenize(df):\n",
    "    examples = []\n",
    "    for index, row in df.iterrows():\n",
    "        example = tokenize_example(row[\"text\"])\n",
    "        if (len(example) > 0 and len(example.shape) > 0): examples.append((example, row[\"label\"]))\n",
    "    return examples\n",
    "\n",
    "tokenized_spam_test = tokenize(spam_test)"
   ]
  },
  {
   "cell_type": "code",
   "execution_count": 19,
   "id": "5c02d2ee-5f49-4875-ba35-2c0bdbdc1e1c",
   "metadata": {},
   "outputs": [
    {
     "data": {
      "text/plain": [
       "<All keys matched successfully>"
      ]
     },
     "execution_count": 19,
     "metadata": {},
     "output_type": "execute_result"
    }
   ],
   "source": [
    "epochs = 6\n",
    "batch_size = 32\n",
    "print_frequency = 250\n",
    "n_heads = 2\n",
    "n_layers = 2\n",
    "model_size = 28\n",
    "hidden_size = 48\n",
    "pos_weight_coeff = 1.05 # >1 increases recall, <1 increases precision\n",
    "\n",
    "spam_model = TransformerModel(embedding_matrix, model_size=model_size, n_heads=n_heads, n_layers=n_layers, hidden_size=hidden_size)\n",
    "spam_model.load_state_dict(torch.load('./trained_models/spam.pt'))"
   ]
  },
  {
   "cell_type": "code",
   "execution_count": 20,
   "id": "0d07ec0c-722c-4d75-a167-bdc819deaac2",
   "metadata": {},
   "outputs": [
    {
     "name": "stderr",
     "output_type": "stream",
     "text": [
      "/home/ubuntu/.local/lib/python3.8/site-packages/torch/nn/modules/module.py:1511: UserWarning: Implicit dimension choice for softmax has been deprecated. Change the call to include dim=X as an argument.\n",
      "  return self._call_impl(*args, **kwargs)\n"
     ]
    },
    {
     "name": "stdout",
     "output_type": "stream",
     "text": [
      "accuracy: 55864/58155 = 0.9606052789957871\n",
      "True positive: 0.46097498065514575\n",
      "False positive: 0.02393603301521795\n",
      "True negative: 0.4996302983406414\n",
      "False negative: 0.015458687988994928\n",
      "(P, R, F-Score) = (0.9506382978723404, 0.9675533258743277, 0.9590212316883394)\n",
      "\n"
     ]
    },
    {
     "data": {
      "text/plain": [
       "0.9606052789957871"
      ]
     },
     "execution_count": 20,
     "metadata": {},
     "output_type": "execute_result"
    }
   ],
   "source": [
    "spam_test_dataloader = torch.utils.data.DataLoader(tokenized_spam_test, batch_size=batch_size)\n",
    "\n",
    "predict(spam_model, spam_test_dataloader)"
   ]
  },
  {
   "cell_type": "markdown",
   "id": "b0a498bd-9cc7-4a57-9765-13c29667f083",
   "metadata": {},
   "source": [
    "The test set results are very similar to the validation set! It is also good that the false negative rate continues to be lower than the false positive rate (although noteably, there is still some randomness to this)."
   ]
  },
  {
   "cell_type": "code",
   "execution_count": null,
   "id": "3200c12e-1346-4710-98e3-f9b947892490",
   "metadata": {},
   "outputs": [],
   "source": []
  }
 ],
 "metadata": {
  "kernelspec": {
   "display_name": "Python 3 (ipykernel)",
   "language": "python",
   "name": "python3"
  },
  "language_info": {
   "codemirror_mode": {
    "name": "ipython",
    "version": 3
   },
   "file_extension": ".py",
   "mimetype": "text/x-python",
   "name": "python",
   "nbconvert_exporter": "python",
   "pygments_lexer": "ipython3",
   "version": "3.8.10"
  }
 },
 "nbformat": 4,
 "nbformat_minor": 5
}
